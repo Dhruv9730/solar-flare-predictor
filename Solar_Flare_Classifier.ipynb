{
 "cells": [
  {
   "cell_type": "code",
   "execution_count": 2,
   "id": "fdcc98d2-e136-4d66-938c-3085ee02d020",
   "metadata": {},
   "outputs": [],
   "source": [
    "import requests\n",
    "import pandas  as pd\n",
    "from datetime import datetime"
   ]
  },
  {
   "cell_type": "code",
   "execution_count": 23,
   "id": "d3503bc2-0bd8-404c-ab32-ce6b46ee7cac",
   "metadata": {},
   "outputs": [
    {
     "name": "stdout",
     "output_type": "stream",
     "text": [
      "{'flrID': '2024-01-01T08:33:00-FLR-001', 'catalog': 'M2M_CATALOG', 'instruments': [{'displayName': 'GOES-P: EXIS 1.0-8.0'}], 'beginTime': '2024-01-01T08:33Z', 'peakTime': '2024-01-01T08:54Z', 'endTime': '2024-01-01T09:04Z', 'classType': 'M2.3', 'sourceLocation': 'N03E70', 'activeRegionNum': 13536, 'note': '', 'submissionTime': '2024-01-01T13:28Z', 'versionId': 1, 'link': 'https://webtools.ccmc.gsfc.nasa.gov/DONKI/view/FLR/28428/-1', 'linkedEvents': None}\n"
     ]
    }
   ],
   "source": [
    "API_key = \"L7JRob1GBsDhgZD45Cy4hCbuYD0NwSGqvt8FHi0z\"\n",
    "start_date = \"2024-01-01\"\n",
    "end_date = \"2024-12-31\"\n",
    "\n",
    "url = f\"https://api.nasa.gov/DONKI/FLR?startDate={start_date}&endDate={end_date}&api_key={API_key}\"\n",
    "\n",
    "# Fetch data\n",
    "response = requests.get(url)\n",
    "data = response.json()\n",
    "\n",
    "# Preview first flare\n",
    "print(data[0])"
   ]
  },
  {
   "cell_type": "code",
   "execution_count": 39,
   "id": "0a44dc3c-616f-48d6-b1b2-38f0beff6b93",
   "metadata": {},
   "outputs": [
    {
     "name": "stdout",
     "output_type": "stream",
     "text": [
      "                      flare_id              begin               peak  \\\n",
      "0  2024-01-01T08:33:00-FLR-001  2024-01-01T08:33Z  2024-01-01T08:54Z   \n",
      "1  2024-01-01T11:54:00-FLR-001  2024-01-01T11:54Z  2024-01-01T12:25Z   \n",
      "2  2024-01-02T18:02:00-FLR-001  2024-01-02T18:02Z  2024-01-02T18:30Z   \n",
      "3  2024-01-04T01:08:00-FLR-001  2024-01-04T01:08Z  2024-01-04T01:16Z   \n",
      "4  2024-01-04T01:22:00-FLR-001  2024-01-04T01:22Z  2024-01-04T01:55Z   \n",
      "\n",
      "                 end class_type location   region            instrument  \n",
      "0  2024-01-01T09:04Z       M2.3   N03E70  13536.0  GOES-P: EXIS 1.0-8.0  \n",
      "1  2024-01-01T12:35Z       M4.7   N03E68  13536.0  GOES-P: EXIS 1.0-8.0  \n",
      "2  2024-01-02T18:56Z       M1.1   N05E59  13536.0  GOES-P: EXIS 1.0-8.0  \n",
      "3  2024-01-04T01:22Z       M1.1   N02E38  13536.0  GOES-P: EXIS 1.0-8.0  \n",
      "4  2024-01-04T02:12Z       M3.8   N04E38  13536.0  GOES-P: EXIS 1.0-8.0  \n"
     ]
    }
   ],
   "source": [
    "flare_records = []\n",
    "\n",
    "for flare in data:\n",
    "    flare_records.append({\n",
    "        \"flare_id\": flare.get(\"flrID\"),\n",
    "        \"begin\": flare.get(\"beginTime\"),\n",
    "        \"peak\": flare.get(\"peakTime\"),\n",
    "        \"end\": flare.get(\"endTime\"),\n",
    "        \"class_type\": flare.get(\"classType\"),\n",
    "        \"location\": flare.get(\"sourceLocation\"),\n",
    "        \"region\": flare.get(\"activeRegionNum\"),\n",
    "        \"instrument\": flare[\"instruments\"][0][\"displayName\"] if flare.get(\"instruments\") else None\n",
    "    })\n",
    "\n",
    "df = pd.DataFrame(flare_records)\n",
    "print(df.head())"
   ]
  },
  {
   "cell_type": "code",
   "execution_count": 41,
   "id": "1e69a886-c6c8-4e9b-8558-912d32d9810a",
   "metadata": {},
   "outputs": [
    {
     "name": "stdout",
     "output_type": "stream",
     "text": [
      "<class 'pandas.core.frame.DataFrame'>\n",
      "RangeIndex: 1128 entries, 0 to 1127\n",
      "Data columns (total 8 columns):\n",
      " #   Column      Non-Null Count  Dtype  \n",
      "---  ------      --------------  -----  \n",
      " 0   flare_id    1128 non-null   object \n",
      " 1   begin       1128 non-null   object \n",
      " 2   peak        1128 non-null   object \n",
      " 3   end         1128 non-null   object \n",
      " 4   class_type  1128 non-null   object \n",
      " 5   location    1128 non-null   object \n",
      " 6   region      1102 non-null   float64\n",
      " 7   instrument  1128 non-null   object \n",
      "dtypes: float64(1), object(7)\n",
      "memory usage: 70.6+ KB\n"
     ]
    }
   ],
   "source": [
    "df.info()"
   ]
  },
  {
   "cell_type": "code",
   "execution_count": 43,
   "id": "928d90ee-bc87-406d-b0fa-fff0a905328c",
   "metadata": {},
   "outputs": [
    {
     "name": "stdout",
     "output_type": "stream",
     "text": [
      "<class 'pandas.core.frame.DataFrame'>\n",
      "RangeIndex: 1128 entries, 0 to 1127\n",
      "Data columns (total 8 columns):\n",
      " #   Column      Non-Null Count  Dtype  \n",
      "---  ------      --------------  -----  \n",
      " 0   flare_id    1128 non-null   object \n",
      " 1   begin       1128 non-null   object \n",
      " 2   peak        1128 non-null   object \n",
      " 3   end         1128 non-null   object \n",
      " 4   class_type  1128 non-null   object \n",
      " 5   location    1128 non-null   object \n",
      " 6   region      1102 non-null   float64\n",
      " 7   instrument  1128 non-null   object \n",
      "dtypes: float64(1), object(7)\n",
      "memory usage: 70.6+ KB\n"
     ]
    }
   ],
   "source": [
    "df.info()"
   ]
  },
  {
   "cell_type": "code",
   "execution_count": 45,
   "id": "e52fb017-d91b-45a8-9b47-b79b68fe71fd",
   "metadata": {},
   "outputs": [],
   "source": [
    "# New column : flare_Class (B, C,M,X)\n",
    "df['flare_class'] =df['class_type'].str[0]"
   ]
  },
  {
   "cell_type": "markdown",
   "id": "72890fb2-26d2-4752-8677-c961b9474fe9",
   "metadata": {},
   "source": [
    "### Calculate Flare Duration"
   ]
  },
  {
   "cell_type": "code",
   "execution_count": 59,
   "id": "073a3600-cced-48e0-983e-f0b8d52311fa",
   "metadata": {},
   "outputs": [],
   "source": [
    "import numpy as np\n",
    "\n",
    "\n",
    "def preprocess_flare_data(df):\n",
    "    # Class Label\n",
    "    df['class_label'] = df['class_type'].str[0] #'M2.3'-> 'M'\n",
    "\n",
    "    # Duration in minutes\n",
    "    df['begin'] =pd.to_datetime(df['begin'])\n",
    "    df['end'] = pd.to_datetime(df['end'])\n",
    "    df['duration_min'] = (df['end'] - df['begin']).dt.total_seconds() /60\n",
    "\n",
    "\n",
    "    #Location Split\n",
    "    df['north_south'] = df['location'].str.extract(r'([NS])')\n",
    "    df['east_west'] = df['location'].str.extract(r'([EW])')\n",
    "\n",
    "    #Fill missing region values with -1\n",
    "    df['region'].fillna(-1, inplace =True)\n",
    "\n",
    "    #Drop unsused columns\n",
    "    df_model =df[[\n",
    "        'duration_min', 'region', 'instrument',\n",
    "        'north_south', 'east_west', 'class_label'\n",
    "    ]]\n",
    "\n",
    "    return df_model\n",
    "    "
   ]
  },
  {
   "cell_type": "code",
   "execution_count": 71,
   "id": "925bccab-97a6-4965-9464-a1adf5944a69",
   "metadata": {},
   "outputs": [
    {
     "name": "stderr",
     "output_type": "stream",
     "text": [
      "C:\\Users\\dhruv\\AppData\\Local\\Temp\\ipykernel_16532\\2940862161.py:19: FutureWarning: A value is trying to be set on a copy of a DataFrame or Series through chained assignment using an inplace method.\n",
      "The behavior will change in pandas 3.0. This inplace method will never work because the intermediate object on which we are setting values always behaves as a copy.\n",
      "\n",
      "For example, when doing 'df[col].method(value, inplace=True)', try using 'df.method({col: value}, inplace=True)' or df[col] = df[col].method(value) instead, to perform the operation inplace on the original object.\n",
      "\n",
      "\n",
      "  df['region'].fillna(-1, inplace =True)\n"
     ]
    },
    {
     "data": {
      "text/html": [
       "<div>\n",
       "<style scoped>\n",
       "    .dataframe tbody tr th:only-of-type {\n",
       "        vertical-align: middle;\n",
       "    }\n",
       "\n",
       "    .dataframe tbody tr th {\n",
       "        vertical-align: top;\n",
       "    }\n",
       "\n",
       "    .dataframe thead th {\n",
       "        text-align: right;\n",
       "    }\n",
       "</style>\n",
       "<table border=\"1\" class=\"dataframe\">\n",
       "  <thead>\n",
       "    <tr style=\"text-align: right;\">\n",
       "      <th></th>\n",
       "      <th>duration_min</th>\n",
       "      <th>region</th>\n",
       "      <th>instrument</th>\n",
       "      <th>north_south</th>\n",
       "      <th>east_west</th>\n",
       "      <th>class_label</th>\n",
       "    </tr>\n",
       "  </thead>\n",
       "  <tbody>\n",
       "    <tr>\n",
       "      <th>0</th>\n",
       "      <td>31.0</td>\n",
       "      <td>13536.0</td>\n",
       "      <td>GOES-P: EXIS 1.0-8.0</td>\n",
       "      <td>N</td>\n",
       "      <td>E</td>\n",
       "      <td>M</td>\n",
       "    </tr>\n",
       "    <tr>\n",
       "      <th>1</th>\n",
       "      <td>41.0</td>\n",
       "      <td>13536.0</td>\n",
       "      <td>GOES-P: EXIS 1.0-8.0</td>\n",
       "      <td>N</td>\n",
       "      <td>E</td>\n",
       "      <td>M</td>\n",
       "    </tr>\n",
       "    <tr>\n",
       "      <th>2</th>\n",
       "      <td>54.0</td>\n",
       "      <td>13536.0</td>\n",
       "      <td>GOES-P: EXIS 1.0-8.0</td>\n",
       "      <td>N</td>\n",
       "      <td>E</td>\n",
       "      <td>M</td>\n",
       "    </tr>\n",
       "    <tr>\n",
       "      <th>3</th>\n",
       "      <td>14.0</td>\n",
       "      <td>13536.0</td>\n",
       "      <td>GOES-P: EXIS 1.0-8.0</td>\n",
       "      <td>N</td>\n",
       "      <td>E</td>\n",
       "      <td>M</td>\n",
       "    </tr>\n",
       "    <tr>\n",
       "      <th>4</th>\n",
       "      <td>50.0</td>\n",
       "      <td>13536.0</td>\n",
       "      <td>GOES-P: EXIS 1.0-8.0</td>\n",
       "      <td>N</td>\n",
       "      <td>E</td>\n",
       "      <td>M</td>\n",
       "    </tr>\n",
       "  </tbody>\n",
       "</table>\n",
       "</div>"
      ],
      "text/plain": [
       "   duration_min   region            instrument north_south east_west  \\\n",
       "0          31.0  13536.0  GOES-P: EXIS 1.0-8.0           N         E   \n",
       "1          41.0  13536.0  GOES-P: EXIS 1.0-8.0           N         E   \n",
       "2          54.0  13536.0  GOES-P: EXIS 1.0-8.0           N         E   \n",
       "3          14.0  13536.0  GOES-P: EXIS 1.0-8.0           N         E   \n",
       "4          50.0  13536.0  GOES-P: EXIS 1.0-8.0           N         E   \n",
       "\n",
       "  class_label  \n",
       "0           M  \n",
       "1           M  \n",
       "2           M  \n",
       "3           M  \n",
       "4           M  "
      ]
     },
     "execution_count": 71,
     "metadata": {},
     "output_type": "execute_result"
    }
   ],
   "source": [
    "df_model =preprocess_flare_data(df)\n",
    "df_model.head()"
   ]
  },
  {
   "cell_type": "code",
   "execution_count": 73,
   "id": "b5c585ad-64d1-464b-adcd-6c80d4791858",
   "metadata": {},
   "outputs": [],
   "source": [
    "from sklearn.utils import resample\n",
    "\n",
    "df_m =df_model[df_model['class_label']=='M']\n",
    "df_c =df_model[df_model['class_label']=='C']\n",
    "df_x =df_model[df_model['class_label']=='X']\n",
    "\n",
    "df_c_upsampled =resample (df_c, replace =True, n_samples =100, random_state=42)\n",
    "df_x_upsampled =resample (df_x, replace =True, n_samples =100, random_state=42)\n",
    "df_m_downsampled =resample (df_m, replace =True, n_samples =100, random_state=42)\n",
    "\n",
    "#Combine balanced Dataframe\n",
    "df_balanced = pd.concat([df_m_downsampled, df_c_upsampled, df_x_upsampled])\n",
    "\n",
    "#use df_balanced for training\n",
    "X = df_balanced.drop(\"class_label\", axis =1)\n",
    "y = df_balanced[\"class_label\"]"
   ]
  },
  {
   "cell_type": "markdown",
   "id": "9e125f8c-202c-487a-a827-f413dcb0a0e4",
   "metadata": {},
   "source": [
    "### Model Training and Evaluatioon"
   ]
  },
  {
   "cell_type": "code",
   "execution_count": 78,
   "id": "e4121a45-382a-4f9b-a785-a735e1df9247",
   "metadata": {},
   "outputs": [
    {
     "name": "stdout",
     "output_type": "stream",
     "text": [
      "              precision    recall  f1-score   support\n",
      "\n",
      "           C       0.73      0.80      0.76        20\n",
      "           M       0.64      0.35      0.45        20\n",
      "           X       0.67      0.90      0.77        20\n",
      "\n",
      "    accuracy                           0.68        60\n",
      "   macro avg       0.68      0.68      0.66        60\n",
      "weighted avg       0.68      0.68      0.66        60\n",
      "\n"
     ]
    }
   ],
   "source": [
    "from sklearn.model_selection import train_test_split\n",
    "from sklearn.preprocessing import OneHotEncoder\n",
    "from sklearn.ensemble import RandomForestClassifier\n",
    "from sklearn.metrics import classification_report\n",
    "from sklearn.pipeline import Pipeline\n",
    "from sklearn.compose import ColumnTransformer\n",
    "\n",
    "\n",
    "#Step 1: Define feature columns \n",
    "X =df_balanced.drop(\"class_label\", axis =1)\n",
    "y =df_balanced['class_label']\n",
    "\n",
    "#Step 2: Identify categorical columns\n",
    "categorical =['instrument' ,'north_south','east_west']\n",
    "numerical = ['duration_min', 'region']\n",
    "\n",
    "#Step 3: One-hot encode categoricals\n",
    "preprocessor = ColumnTransformer([\n",
    "    ('cat', OneHotEncoder(handle_unknown = 'ignore'), categorical)], remainder ='passthrough')\n",
    "\n",
    "#Step 4: Define pipeline with classifier\n",
    "pipeline =Pipeline([\n",
    "    (\"preprocess\", preprocessor),\n",
    "    (\"classifier\", RandomForestClassifier(n_estimators =100, random_state=42))\n",
    "])\n",
    "\n",
    "#Step 5: Train-Test Split\n",
    "X_train, X_test, y_train, y_test= train_test_split(X,y, stratify =y, test_size =0.2, random_state =42)\n",
    "\n",
    "#Step 6:Train\n",
    "pipeline.fit(X_train, y_train)\n",
    "\n",
    "#Step 7: Predict & Evaluate\n",
    "y_pred =pipeline.predict(X_test)\n",
    "print(classification_report(y_test, y_pred))"
   ]
  },
  {
   "cell_type": "code",
   "execution_count": 80,
   "id": "a5299733-ee45-4124-bbcf-87b140a82ac0",
   "metadata": {},
   "outputs": [
    {
     "name": "stdout",
     "output_type": "stream",
     "text": [
      "Model Saved!\n"
     ]
    }
   ],
   "source": [
    "import joblib\n",
    "\n",
    "#save pipeline\n",
    "joblib.dump(pipeline ,\"solar_flare_classifier.pkl\")\n",
    "print(\"Model Saved!\")"
   ]
  },
  {
   "cell_type": "code",
   "execution_count": null,
   "id": "ba076933-5a94-44bc-9904-e89428915bb1",
   "metadata": {},
   "outputs": [],
   "source": []
  }
 ],
 "metadata": {
  "kernelspec": {
   "display_name": "Python 3 (ipykernel)",
   "language": "python",
   "name": "python3"
  },
  "language_info": {
   "codemirror_mode": {
    "name": "ipython",
    "version": 3
   },
   "file_extension": ".py",
   "mimetype": "text/x-python",
   "name": "python",
   "nbconvert_exporter": "python",
   "pygments_lexer": "ipython3",
   "version": "3.9.18"
  }
 },
 "nbformat": 4,
 "nbformat_minor": 5
}
